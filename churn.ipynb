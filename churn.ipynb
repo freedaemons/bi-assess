{
 "cells": [
  {
   "cell_type": "code",
   "execution_count": 1,
   "metadata": {},
   "outputs": [],
   "source": [
    "import pandas as pd\n",
    "import numpy as np\n",
    "import os\n",
    "\n",
    "import psycopg2\n",
    "conn = psycopg2.connect(dbname='churn', \n",
    "                        user='postgres',\n",
    "                        password='postgres',\n",
    "                        host='bi-assess.cvtbaved9qqg.us-west-2.rds.amazonaws.com',\n",
    "                        port=5432)"
   ]
  },
  {
   "cell_type": "code",
   "execution_count": 2,
   "metadata": {},
   "outputs": [],
   "source": [
    "pd.set_option('display.max_colwidth', -1)\n",
    "pd.set_option('display.max_rows', None, 'display.max_columns', None)"
   ]
  },
  {
   "cell_type": "code",
   "execution_count": 3,
   "metadata": {},
   "outputs": [],
   "source": [
    "dim_account = os.path.join('data', 'dim_account', '000')\n",
    "dim_calendar = os.path.join('data', 'dim_calendar', '000')\n",
    "dim_product = os.path.join('data', 'dim_product', '000')\n",
    "dim_territory = os.path.join('data', 'dim_territory', '000')\n",
    "fact_sales_revenue = os.path.join('data', 'fact_sales_revenue', '000')"
   ]
  },
  {
   "cell_type": "code",
   "execution_count": 4,
   "metadata": {},
   "outputs": [
    {
     "data": {
      "text/plain": [
       "0"
      ]
     },
     "execution_count": 4,
     "metadata": {},
     "output_type": "execute_result"
    }
   ],
   "source": [
    "# 0 means open\n",
    "conn.closed"
   ]
  },
  {
   "cell_type": "code",
   "execution_count": 5,
   "metadata": {},
   "outputs": [],
   "source": [
    "create_dim_account = \"\"\"\n",
    "    CREATE TABLE dim_account (\n",
    "        payer_account_id TEXT, \n",
    "        payer_account_company_name TEXT,\n",
    "        payer_account_registration_date TIMESTAMP WITHOUT TIME ZONE,\n",
    "        payer_account_status_code TEXT,\n",
    "        payer_account_role_name TEXT,\n",
    "        payer_account_creation_date TIMESTAMP WITHOUT TIME ZONE,\n",
    "        payer_account_last_update_date TIMESTAMP WITHOUT TIME ZONE,\n",
    "        payer_account_registration_tax_country_code TEXT,\n",
    "        is_payer_account_bill_in_90_days CHAR(1),\n",
    "        is_payer_account_enterprise CHAR(1),\n",
    "        is_payer_account_domain_free_domain CHAR(1),\n",
    "        is_payer_account_on_enterprise_support CHAR(1),\n",
    "        is_payer_account_on_business_support CHAR(1),\n",
    "        is_payer_account_fraud CHAR(1),\n",
    "        is_payer_account_suspended CHAR(1),\n",
    "        is_payer_account_internal CHAR(1),\n",
    "        is_payer_account_inp_terminated CHAR(1),\n",
    "        is_payer_account_on_behalf_of CHAR(1),\n",
    "        is_payer_account_tax_exempt CHAR(1),\n",
    "        is_payer_account_reseller CHAR(1),\n",
    "        payer_account_first_billing_reporting_date TIMESTAMP WITHOUT TIME ZONE,\n",
    "        payer_account_first_payment_reporting_date TIMESTAMP WITHOUT TIME ZONE,\n",
    "        payer_account_first_usage_date TIMESTAMP WITHOUT TIME ZONE\n",
    "    );\n",
    "\"\"\"\n",
    "\n",
    "create_dim_calendar = \"\"\"\n",
    "    CREATE TABLE dim_calendar (\n",
    "        calendar_sid INTEGER,\n",
    "        calendar_date DATE,\n",
    "        day_of_week_name TEXT,\n",
    "        day_of_week_number INTEGER,\n",
    "        day_of_week_code TEXT,\n",
    "        day_of_quarter_number INTEGER,\n",
    "        day_of_year_number INTEGER,\n",
    "        calendar_period TEXT,\n",
    "        week_id INTEGER,\n",
    "        prior_week_id INTEGER,\n",
    "        subsequent_week_id INTEGER,\n",
    "        week_number INTEGER,\n",
    "        week_code TEXT,\n",
    "        month_id INTEGER,\n",
    "        prior_month_id INTEGER,\n",
    "        subsequent_month_id INTEGER,\n",
    "        month_number INTEGER,\n",
    "        month_code TEXT,\n",
    "        month_num_of_days INTEGER,\n",
    "        year_id INTEGER,\n",
    "        prior_year_id INTEGER,\n",
    "        subsequent_year_id INTEGER,\n",
    "        year_number INTEGER,\n",
    "        year_code TEXT,\n",
    "        ytd_flag BOOLEAN,\n",
    "        yoy_flag BOOLEAN,\n",
    "        report_month_flag BOOLEAN,\n",
    "        prospecting_day_flag BOOLEAN\n",
    "    )\n",
    "\"\"\"\n",
    "\n",
    "create_dim_product = \"\"\"\n",
    "    CREATE TABLE dim_product (\n",
    "        product_sid TEXT,\n",
    "        product_line_name TEXT,\n",
    "        product_name TEXT,\n",
    "        sub_product_name TEXT,\n",
    "        service_group_name TEXT,\n",
    "        product_companyn_name TEXT\n",
    "    )\n",
    "\"\"\"\n",
    "\n",
    "create_dim_territory = \"\"\"\n",
    "    CREATE TABLE dim_territory (\n",
    "        territory_sid TEXT,\n",
    "        region TEXT,\n",
    "        sub_region TEXT,\n",
    "        territory_code TEXT,\n",
    "        segment TEXT\n",
    "    )\n",
    "\"\"\"\n",
    "\n",
    "create_fact_sales_revenue = \"\"\"\n",
    "    CREATE TABLE fact_sales_revenue (\n",
    "       territory_sid TEXT,\n",
    "       payer_account_id TEXT,\n",
    "       month_id INTEGER,\n",
    "       product_sid TEXT,\n",
    "       sales_revenue NUMERIC(38,6)\n",
    "    )\n",
    "\"\"\""
   ]
  },
  {
   "cell_type": "code",
   "execution_count": 6,
   "metadata": {},
   "outputs": [],
   "source": [
    "tables = [\n",
    "#    'dim_account',\n",
    "    'dim_calendar',\n",
    "    'dim_product',\n",
    "    'dim_territory',\n",
    "#    'fact_sales_revenue'\n",
    "]"
   ]
  },
  {
   "cell_type": "code",
   "execution_count": 7,
   "metadata": {},
   "outputs": [
    {
     "name": "stdout",
     "output_type": "stream",
     "text": [
      "[(datetime.datetime(2019, 4, 16, 7, 11, 37, 402107, tzinfo=psycopg2.tz.FixedOffsetTimezone(offset=0, name=None)),)]\n"
     ]
    }
   ],
   "source": [
    "try:\n",
    "    cur = conn.cursor()\n",
    "    cur.execute('SELECT now()')\n",
    "    data = cur.fetchall()\n",
    "    print(data)\n",
    "except psycopg2.OperationalError as oe:\n",
    "    print(oe)"
   ]
  },
  {
   "cell_type": "code",
   "execution_count": 8,
   "metadata": {},
   "outputs": [],
   "source": [
    "def create_table(tablename):\n",
    "    try:\n",
    "        cur = conn.cursor()\n",
    "        func_name = 'create_' + tablename\n",
    "        cur.execute(eval(func_name))\n",
    "        conn.commit()\n",
    "        print('Table ' + tablename + ' created.')\n",
    "    except psycopg2.OperationalError as oe:\n",
    "        print(oe)"
   ]
  },
  {
   "cell_type": "code",
   "execution_count": 9,
   "metadata": {},
   "outputs": [],
   "source": [
    "def copy_from_file(filepath, tablename):\n",
    "    try:\n",
    "        cur = conn.cursor()\n",
    "        f = open(filepath, 'r')\n",
    "        cur.copy_from(f, tablename, sep=',')\n",
    "        conn.commit()\n",
    "        f.close()\n",
    "        print(filepath + ' copied into table ' + tablename + '.')\n",
    "    except psycopg2.OperationalError as oe:\n",
    "        print(oe)"
   ]
  },
  {
   "cell_type": "code",
   "execution_count": 10,
   "metadata": {},
   "outputs": [
    {
     "name": "stdout",
     "output_type": "stream",
     "text": [
      "Table dim_calendar created.\n",
      "data\\dim_calendar\\000 copied into table dim_calendar.\n",
      "Table dim_product created.\n",
      "data\\dim_product\\000 copied into table dim_product.\n",
      "Table dim_territory created.\n",
      "data\\dim_territory\\000 copied into table dim_territory.\n"
     ]
    }
   ],
   "source": [
    "for table in tables:\n",
    "    create_table(table)\n",
    "    copy_from_file(eval(table), table)"
   ]
  }
 ],
 "metadata": {
  "kernelspec": {
   "display_name": "Python 3",
   "language": "python",
   "name": "python3"
  },
  "language_info": {
   "codemirror_mode": {
    "name": "ipython",
    "version": 3
   },
   "file_extension": ".py",
   "mimetype": "text/x-python",
   "name": "python",
   "nbconvert_exporter": "python",
   "pygments_lexer": "ipython3",
   "version": "3.6.5"
  }
 },
 "nbformat": 4,
 "nbformat_minor": 2
}
